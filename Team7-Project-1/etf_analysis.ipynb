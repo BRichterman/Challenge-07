{
 "cells": [
  {
   "cell_type": "code",
   "execution_count": 3,
   "metadata": {},
   "outputs": [],
   "source": [
    "# Import the required libraries and dependencies\r\n",
    "import os\r\n",
    "import requests\r\n",
    "import json\r\n",
    "import pandas as pd\r\n",
    "from dotenv import load_dotenv\r\n",
    "import alpaca_trade_api as tradeapi\r\n",
    "from MCForecastTools import MCSimulation\r\n",
    "\r\n",
    "%matplotlib inline"
   ]
  },
  {
   "cell_type": "code",
   "execution_count": 4,
   "metadata": {},
   "outputs": [
    {
     "data": {
      "text/plain": "True"
     },
     "execution_count": 4,
     "metadata": {},
     "output_type": "execute_result"
    }
   ],
   "source": [
    "# Load the environment variables from the .env file\r\n",
    "#by calling the load_dotenv function\r\n",
    "load_dotenv()"
   ]
  },
  {
   "cell_type": "code",
   "execution_count": 6,
   "metadata": {},
   "outputs": [],
   "source": [
    "# API Call endpoint URLs for ETFs\r\n",
    "eth_url = \"https://api.alternative.me/v2/ticker/Ethereum/?convert=USD\"\r\n",
    "btc_url = \"https://api.alternative.me/v2/ticker/Bitcoin/?convert=USD\"\r\n",
    "\r\n",
    "\r\n"
   ]
  },
  {
   "cell_type": "code",
   "execution_count": 7,
   "metadata": {},
   "outputs": [
    {
     "name": "stdout",
     "output_type": "stream",
     "text": [
      "{\n",
      "    \"data\": {\n",
      "        \"1027\": {\n",
      "            \"circulating_supply\": 117039667,\n",
      "            \"id\": 1027,\n",
      "            \"last_updated\": 1628551761,\n",
      "            \"max_supply\": 0,\n",
      "            \"name\": \"Ethereum\",\n",
      "            \"quotes\": {\n",
      "                \"USD\": {\n",
      "                    \"market_cap\": 363242219000,\n",
      "                    \"percent_change_1h\": 1.90237557658845,\n",
      "                    \"percent_change_24h\": 3.91502783259313,\n",
      "                    \"percent_change_7d\": 23.914748472109,\n",
      "                    \"percentage_change_1h\": 1.90237557658845,\n",
      "                    \"percentage_change_24h\": 3.91502783259313,\n",
      "                    \"percentage_change_7d\": 23.914748472109,\n",
      "                    \"price\": 3166.53,\n",
      "                    \"volume_24h\": 38707117432\n",
      "                }\n",
      "            },\n",
      "            \"rank\": 2,\n",
      "            \"symbol\": \"ETH\",\n",
      "            \"total_supply\": 117039667,\n",
      "            \"website_slug\": \"ethereum\"\n",
      "        }\n",
      "    },\n",
      "    \"metadata\": {\n",
      "        \"error\": null,\n",
      "        \"num_cryptocurrencies\": 3105,\n",
      "        \"timestamp\": 1628551761\n",
      "    }\n",
      "}\n"
     ]
    }
   ],
   "source": [
    "# Make and API call\r\n",
    "eth_response = requests.get(eth_url).json()\r\n",
    "\r\n",
    "\r\n",
    "# Use the json.dumps function to review the response data from the API call\r\n",
    "print(json.dumps(eth_response, indent =4, sort_keys = True))"
   ]
  },
  {
   "cell_type": "code",
   "execution_count": 8,
   "metadata": {},
   "outputs": [
    {
     "name": "stdout",
     "output_type": "stream",
     "text": [
      "{\n",
      "    \"data\": {\n",
      "        \"1\": {\n",
      "            \"circulating_supply\": 18781331,\n",
      "            \"id\": 1,\n",
      "            \"last_updated\": 1628551758,\n",
      "            \"max_supply\": 21000000,\n",
      "            \"name\": \"Bitcoin\",\n",
      "            \"quotes\": {\n",
      "                \"USD\": {\n",
      "                    \"market_cap\": 861862844506,\n",
      "                    \"percent_change_1h\": 1.07252729592646,\n",
      "                    \"percent_change_24h\": 4.87814764509934,\n",
      "                    \"percent_change_7d\": 16.1358181530434,\n",
      "                    \"percentage_change_1h\": 1.07252729592646,\n",
      "                    \"percentage_change_24h\": 4.87814764509934,\n",
      "                    \"percentage_change_7d\": 16.1358181530434,\n",
      "                    \"price\": 46355.0,\n",
      "                    \"volume_24h\": 43141805557\n",
      "                }\n",
      "            },\n",
      "            \"rank\": 1,\n",
      "            \"symbol\": \"BTC\",\n",
      "            \"total_supply\": 18781331,\n",
      "            \"website_slug\": \"bitcoin\"\n",
      "        }\n",
      "    },\n",
      "    \"metadata\": {\n",
      "        \"error\": null,\n",
      "        \"num_cryptocurrencies\": 3105,\n",
      "        \"timestamp\": 1628551758\n",
      "    }\n",
      "}\n"
     ]
    }
   ],
   "source": [
    "# Make and API call\r\n",
    "btc_response = requests.get(btc_url).json()\r\n",
    "\r\n",
    "\r\n",
    "# Use the json.dumps function to review the response data from the API call\r\n",
    "print(json.dumps(btc_response, indent =4, sort_keys = True))"
   ]
  },
  {
   "cell_type": "code",
   "execution_count": 12,
   "metadata": {},
   "outputs": [],
   "source": [
    "# Set the variables for the Alpaca API and secret keys\r\n",
    "#alpaca_api_key = os.getenv(\"ALPACA_API_KEY\")\r\n",
    "#alpaca_secret_key = os.getenv(\"ALPACA_SECRET_KEY\")\r\n",
    "\r\n",
    "alpaca_api_key='PKKD2OWSYBJFT1YTBFGX'\r\n",
    "alpaca_secret_key='gIKhc3hNwLrNti6VvFC7gIz6y2jmWdjRzhKeC9F4'\r\n",
    "\r\n",
    "# Create the Alpaca tradeapi.REST object\r\n",
    "alpaca = tradeapi.REST(\r\n",
    "    alpaca_api_key,\r\n",
    "    alpaca_secret_key,\r\n",
    "    api_version=\"v2\")"
   ]
  },
  {
   "cell_type": "code",
   "execution_count": 14,
   "metadata": {},
   "outputs": [],
   "source": [
    "#Set start and end date for the API calls\r\n",
    "start_date = pd.Timestamp('2018-08-01', tz='America/New_York').isoformat()\r\n",
    "end_date = pd.Timestamp('2021-08-01', tz='America/New_York').isoformat()"
   ]
  },
  {
   "cell_type": "code",
   "execution_count": 15,
   "metadata": {},
   "outputs": [
    {
     "data": {
      "text/html": "<div>\n<style scoped>\n    .dataframe tbody tr th:only-of-type {\n        vertical-align: middle;\n    }\n\n    .dataframe tbody tr th {\n        vertical-align: top;\n    }\n\n    .dataframe thead tr th {\n        text-align: left;\n    }\n\n    .dataframe thead tr:last-of-type th {\n        text-align: right;\n    }\n</style>\n<table border=\"1\" class=\"dataframe\">\n  <thead>\n    <tr>\n      <th></th>\n      <th colspan=\"5\" halign=\"left\">SPY</th>\n    </tr>\n    <tr>\n      <th></th>\n      <th>open</th>\n      <th>high</th>\n      <th>low</th>\n      <th>close</th>\n      <th>volume</th>\n    </tr>\n    <tr>\n      <th>time</th>\n      <th></th>\n      <th></th>\n      <th></th>\n      <th></th>\n      <th></th>\n    </tr>\n  </thead>\n  <tbody>\n    <tr>\n      <th>2017-08-18 00:00:00-04:00</th>\n      <td>242.90</td>\n      <td>244.189</td>\n      <td>242.20</td>\n      <td>242.690</td>\n      <td>85934699</td>\n    </tr>\n    <tr>\n      <th>2017-08-21 00:00:00-04:00</th>\n      <td>242.64</td>\n      <td>243.200</td>\n      <td>241.83</td>\n      <td>242.930</td>\n      <td>47802190</td>\n    </tr>\n    <tr>\n      <th>2017-08-22 00:00:00-04:00</th>\n      <td>243.58</td>\n      <td>245.620</td>\n      <td>243.55</td>\n      <td>245.400</td>\n      <td>49424448</td>\n    </tr>\n    <tr>\n      <th>2017-08-23 00:00:00-04:00</th>\n      <td>244.35</td>\n      <td>245.050</td>\n      <td>244.16</td>\n      <td>244.538</td>\n      <td>33779990</td>\n    </tr>\n    <tr>\n      <th>2017-08-24 00:00:00-04:00</th>\n      <td>245.00</td>\n      <td>245.180</td>\n      <td>243.75</td>\n      <td>244.030</td>\n      <td>40579279</td>\n    </tr>\n  </tbody>\n</table>\n</div>",
      "text/plain": "                              SPY                                    \n                             open     high     low    close    volume\ntime                                                                 \n2017-08-18 00:00:00-04:00  242.90  244.189  242.20  242.690  85934699\n2017-08-21 00:00:00-04:00  242.64  243.200  241.83  242.930  47802190\n2017-08-22 00:00:00-04:00  243.58  245.620  243.55  245.400  49424448\n2017-08-23 00:00:00-04:00  244.35  245.050  244.16  244.538  33779990\n2017-08-24 00:00:00-04:00  245.00  245.180  243.75  244.030  40579279"
     },
     "execution_count": 15,
     "metadata": {},
     "output_type": "execute_result"
    }
   ],
   "source": [
    "#Create \"ticker\"\" variable as SPY for comparison\r\n",
    "#Make timeframe 1D\r\n",
    "#Store SPY data as a dataframe\r\n",
    "ticker =[\"SPY\"]\r\n",
    "timeframe = \"1D\"\r\n",
    "spy_df = alpaca.get_barset(\r\n",
    "    ticker,\r\n",
    "    timeframe,\r\n",
    "    start = start_date,\r\n",
    "    limit=1000\r\n",
    ").df\r\n",
    "\r\n",
    "spy_df.head()"
   ]
  },
  {
   "cell_type": "code",
   "execution_count": 16,
   "metadata": {},
   "outputs": [
    {
     "data": {
      "text/html": "<div>\n<style scoped>\n    .dataframe tbody tr th:only-of-type {\n        vertical-align: middle;\n    }\n\n    .dataframe tbody tr th {\n        vertical-align: top;\n    }\n\n    .dataframe thead tr th {\n        text-align: left;\n    }\n\n    .dataframe thead tr:last-of-type th {\n        text-align: right;\n    }\n</style>\n<table border=\"1\" class=\"dataframe\">\n  <thead>\n    <tr>\n      <th></th>\n      <th colspan=\"5\" halign=\"left\">GLD</th>\n    </tr>\n    <tr>\n      <th></th>\n      <th>open</th>\n      <th>high</th>\n      <th>low</th>\n      <th>close</th>\n      <th>volume</th>\n    </tr>\n    <tr>\n      <th>time</th>\n      <th></th>\n      <th></th>\n      <th></th>\n      <th></th>\n      <th></th>\n    </tr>\n  </thead>\n  <tbody>\n    <tr>\n      <th>2017-08-18 00:00:00-04:00</th>\n      <td>123.36</td>\n      <td>123.540</td>\n      <td>122.00</td>\n      <td>122.27</td>\n      <td>11628518</td>\n    </tr>\n    <tr>\n      <th>2017-08-21 00:00:00-04:00</th>\n      <td>122.54</td>\n      <td>122.981</td>\n      <td>122.50</td>\n      <td>122.77</td>\n      <td>4573436</td>\n    </tr>\n    <tr>\n      <th>2017-08-22 00:00:00-04:00</th>\n      <td>122.56</td>\n      <td>122.560</td>\n      <td>121.85</td>\n      <td>122.21</td>\n      <td>4272199</td>\n    </tr>\n    <tr>\n      <th>2017-08-23 00:00:00-04:00</th>\n      <td>122.58</td>\n      <td>122.690</td>\n      <td>122.31</td>\n      <td>122.66</td>\n      <td>2859023</td>\n    </tr>\n    <tr>\n      <th>2017-08-24 00:00:00-04:00</th>\n      <td>122.39</td>\n      <td>122.640</td>\n      <td>122.13</td>\n      <td>122.27</td>\n      <td>2914808</td>\n    </tr>\n  </tbody>\n</table>\n</div>",
      "text/plain": "                              GLD                                   \n                             open     high     low   close    volume\ntime                                                                \n2017-08-18 00:00:00-04:00  123.36  123.540  122.00  122.27  11628518\n2017-08-21 00:00:00-04:00  122.54  122.981  122.50  122.77   4573436\n2017-08-22 00:00:00-04:00  122.56  122.560  121.85  122.21   4272199\n2017-08-23 00:00:00-04:00  122.58  122.690  122.31  122.66   2859023\n2017-08-24 00:00:00-04:00  122.39  122.640  122.13  122.27   2914808"
     },
     "execution_count": 16,
     "metadata": {},
     "output_type": "execute_result"
    }
   ],
   "source": [
    "#Create \"ticker\"\" variable as GLD for comparison\r\n",
    "#Make timeframe 1D\r\n",
    "#Store SPY data as a dataframe\r\n",
    "ticker =[\"GLD\"]\r\n",
    "timeframe = \"1D\"\r\n",
    "gld_df = alpaca.get_barset(\r\n",
    "    ticker,\r\n",
    "    timeframe,\r\n",
    "    start = start_date,\r\n",
    "    limit=1000\r\n",
    ").df\r\n",
    "\r\n",
    "gld_df.head()"
   ]
  },
  {
   "cell_type": "code",
   "execution_count": 17,
   "metadata": {},
   "outputs": [
    {
     "data": {
      "text/html": "<div>\n<style scoped>\n    .dataframe tbody tr th:only-of-type {\n        vertical-align: middle;\n    }\n\n    .dataframe tbody tr th {\n        vertical-align: top;\n    }\n\n    .dataframe thead tr th {\n        text-align: left;\n    }\n\n    .dataframe thead tr:last-of-type th {\n        text-align: right;\n    }\n</style>\n<table border=\"1\" class=\"dataframe\">\n  <thead>\n    <tr>\n      <th></th>\n      <th colspan=\"5\" halign=\"left\">SLV</th>\n    </tr>\n    <tr>\n      <th></th>\n      <th>open</th>\n      <th>high</th>\n      <th>low</th>\n      <th>close</th>\n      <th>volume</th>\n    </tr>\n    <tr>\n      <th>time</th>\n      <th></th>\n      <th></th>\n      <th></th>\n      <th></th>\n      <th></th>\n    </tr>\n  </thead>\n  <tbody>\n    <tr>\n      <th>2017-08-18 00:00:00-04:00</th>\n      <td>16.21</td>\n      <td>16.24</td>\n      <td>16.04</td>\n      <td>16.09</td>\n      <td>8305615</td>\n    </tr>\n    <tr>\n      <th>2017-08-21 00:00:00-04:00</th>\n      <td>16.12</td>\n      <td>16.19</td>\n      <td>16.05</td>\n      <td>16.06</td>\n      <td>4824668</td>\n    </tr>\n    <tr>\n      <th>2017-08-22 00:00:00-04:00</th>\n      <td>16.14</td>\n      <td>16.16</td>\n      <td>15.95</td>\n      <td>16.06</td>\n      <td>4401016</td>\n    </tr>\n    <tr>\n      <th>2017-08-23 00:00:00-04:00</th>\n      <td>16.12</td>\n      <td>16.16</td>\n      <td>16.04</td>\n      <td>16.14</td>\n      <td>3059419</td>\n    </tr>\n    <tr>\n      <th>2017-08-24 00:00:00-04:00</th>\n      <td>16.04</td>\n      <td>16.08</td>\n      <td>15.95</td>\n      <td>16.02</td>\n      <td>3841107</td>\n    </tr>\n  </tbody>\n</table>\n</div>",
      "text/plain": "                             SLV                              \n                            open   high    low  close   volume\ntime                                                          \n2017-08-18 00:00:00-04:00  16.21  16.24  16.04  16.09  8305615\n2017-08-21 00:00:00-04:00  16.12  16.19  16.05  16.06  4824668\n2017-08-22 00:00:00-04:00  16.14  16.16  15.95  16.06  4401016\n2017-08-23 00:00:00-04:00  16.12  16.16  16.04  16.14  3059419\n2017-08-24 00:00:00-04:00  16.04  16.08  15.95  16.02  3841107"
     },
     "execution_count": 17,
     "metadata": {},
     "output_type": "execute_result"
    }
   ],
   "source": [
    "#Create \"ticker\"\" variable as SLV for comparison\r\n",
    "#Make timeframe 1D\r\n",
    "#Store SPY data as a dataframe\r\n",
    "ticker =[\"SLV\"]\r\n",
    "timeframe = \"1D\"\r\n",
    "slv_df = alpaca.get_barset(\r\n",
    "    ticker,\r\n",
    "    timeframe,\r\n",
    "    start = start_date,\r\n",
    "    limit=1000\r\n",
    ").df\r\n",
    "\r\n",
    "slv_df.head()"
   ]
  }
 ],
 "metadata": {
  "kernelspec": {
   "display_name": "Python 3.7.9 32-bit ('dev': conda)",
   "name": "python379jvsc74a57bd0b66cf29ca72abf8f729cf4248e94dc41ba29298104ee54b484e14c88b1b79450"
  },
  "language_info": {
   "codemirror_mode": {
    "name": "ipython",
    "version": 3
   },
   "file_extension": ".py",
   "mimetype": "text/x-python",
   "name": "python",
   "nbconvert_exporter": "python",
   "pygments_lexer": "ipython3",
   "version": "3.7.9"
  },
  "orig_nbformat": 2
 },
 "nbformat": 4,
 "nbformat_minor": 2
}